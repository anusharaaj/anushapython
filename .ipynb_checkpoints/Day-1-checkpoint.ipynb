{
 "cells": [
  {
   "cell_type": "markdown",
   "metadata": {},
   "source": [
    "#Headings"
   ]
  },
  {
   "cell_type": "markdown",
   "metadata": {},
   "source": [
    "#Heading\n",
    "# Bold\n",
    "**hello**\n",
    "# italic\n",
    "**ANUSHA**\n",
    "**hi**\n",
    "*hello*\n",
    "# Both italic and bold\n",
    "***anusha***#\n",
    "##  anusha\n",
    "### anusha\n",
    "#### anua\n",
    "## offline\n",
    "## online\n",
    "<img src=\"sample.jpg\">"
   ]
  },
  {
   "cell_type": "markdown",
   "metadata": {},
   "source": [
    "<img src=\"sample.jpg\">\n",
    "<img src=\"https://www.cameraegg.org/wp-content/uploads/2013/02/Leica-M-Sample-Image.jpg\""
   ]
  },
  {
   "cell_type": "markdown",
   "metadata": {},
   "source": []
  }
 ],
 "metadata": {
  "kernelspec": {
   "display_name": "Python 3",
   "language": "python",
   "name": "python3"
  },
  "language_info": {
   "codemirror_mode": {
    "name": "ipython",
    "version": 3
   },
   "file_extension": ".py",
   "mimetype": "text/x-python",
   "name": "python",
   "nbconvert_exporter": "python",
   "pygments_lexer": "ipython3",
   "version": "3.8.5"
  }
 },
 "nbformat": 4,
 "nbformat_minor": 4
}
