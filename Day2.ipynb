{
 "cells": [
  {
   "cell_type": "markdown",
   "metadata": {},
   "source": [
    "# To Day Agenda\n",
    "+ Execution of commands in python shell\n",
    "- Data Types\n",
    "    + int\n",
    "    - float\n",
    "    * bool\n",
    "    * complex\n",
    "    + str\n",
    "* I/P & O/P\n",
    "- Program Execution in idle\n",
    "+ program Execution in Command prompt\n",
    "+ Program Written in Note pad\n",
    "* Git Hub in Account Creation"
   ]
  },
  {
   "cell_type": "code",
   "execution_count": null,
   "metadata": {},
   "outputs": [],
   "source": []
  }
 ],
 "metadata": {
  "kernelspec": {
   "display_name": "Python 3",
   "language": "python",
   "name": "python3"
  },
  "language_info": {
   "codemirror_mode": {
    "name": "ipython",
    "version": 3
   },
   "file_extension": ".py",
   "mimetype": "text/x-python",
   "name": "python",
   "nbconvert_exporter": "python",
   "pygments_lexer": "ipython3",
   "version": "3.8.5"
  }
 },
 "nbformat": 4,
 "nbformat_minor": 4
}
